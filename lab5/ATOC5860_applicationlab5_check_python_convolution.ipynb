{
 "cells": [
  {
   "cell_type": "code",
   "execution_count": 1,
   "metadata": {},
   "outputs": [],
   "source": [
    "### ATOC5860 - ATOC7500_applicationlab5_check_python_convolution\n",
    "### Coded by Jennifer Kay and Elizabeth Maroon (University of Colorado)\n",
    "### Last updated March 29, 2022\n",
    "\n",
    "%matplotlib inline\n",
    "import numpy as np\n",
    "import matplotlib.pyplot as plt\n",
    "from scipy import stats\n",
    "import scipy.signal as sig\n",
    "from matplotlib.gridspec import GridSpec\n",
    "import timeit\n",
    "import scipy.io as sio\n",
    "import xarray\n",
    "import pickle"
   ]
  },
  {
   "cell_type": "code",
   "execution_count": 2,
   "metadata": {},
   "outputs": [],
   "source": [
    "## Read in the data.\n",
    "## Data are monthly Nino3.4 sea surface temperature (SST) time series (a proxy for ENSO) from the\n",
    "## CESM Large Ensemble (http://www.cesm.ucar.edu/projects/community-projects/LENS/). \n",
    "## You will analyze pre-industrial control runs that represent perpetual 1850 conditions \n",
    "## (i.e., they have constant 1850 climate).\n",
    "## Note: these are the same data from Homework #4 :) Remember???\n",
    "## Data are munged (preprocessed) by the NCAR CVDP package\n",
    "## http://www2.cesm.ucar.edu/working_groups/CVC/cvdp//data-repository.html\n",
    "\n",
    "fname1=\"CESM1_LENS_Coupled_Control.cvdp_data.401-2200.nc\"\n",
    "ds1=xarray.open_dataset(fname1,decode_times=False,decode_cf=False)\n",
    "#ds1\n",
    "data_fc=ds1[\"nino34\"]\n",
    "#print(data_fc)\n",
    "nyrs=700\n",
    "x=data_fc[0:12*nyrs]\n",
    "    \n",
    "## remove the mean (i.e., calculate the anomaly)\n",
    "xa = x - np.mean(x)    "
   ]
  },
  {
   "cell_type": "code",
   "execution_count": 3,
   "metadata": {},
   "outputs": [
    {
     "name": "stdout",
     "output_type": "stream",
     "text": [
      "Shape of Original Data\n",
      "(8400,)\n",
      "Original Data - first three points\n",
      "[-0.86 -1.03 -1.08]\n",
      "Convolution by hand - first three points\n",
      "[-0.29 -0.63 -0.99]\n",
      "Convolution by hand - last three points\n",
      "[-1.06 -0.75 -0.37]\n"
     ]
    }
   ],
   "source": [
    "### What is under the hood with the python functions?  How are the edge effects treated?\n",
    "\n",
    "## Let's see what is going on.  We'll do the convolution manually.\n",
    "b=np.array([1,1,1])/3 ### a simple filter\n",
    "\n",
    "print(\"Shape of Original Data\")\n",
    "print(np.shape(xa))\n",
    "\n",
    "print(\"Original Data - first three points\")\n",
    "print(np.round(xa[0:3].values,2))\n",
    "print(\"Convolution by hand - first three points\")\n",
    "by_hand_first3=xa[0].values*1/3,(xa[0].values*1+xa[1].values*1)/3,(xa[0].values*1+xa[1].values*1+xa[2].values*1)/3\n",
    "print(np.round(by_hand_first3,2))\n",
    "print(\"Convolution by hand - last three points\")\n",
    "by_hand_last3=(xa[-3].values*1+xa[-2].values*1+xa[-1].values*1)/3,(xa[-1].values*1+xa[-2].values*1)/3,xa[-1].values*1/3\n",
    "print(np.round(by_hand_last3,2))"
   ]
  },
  {
   "cell_type": "code",
   "execution_count": 4,
   "metadata": {},
   "outputs": [
    {
     "name": "stdout",
     "output_type": "stream",
     "text": [
      "Convolution by np.convolve - first three points\n",
      "[-0.29 -0.63 -0.99]\n",
      "Convolution by np.convolve - last three points\n",
      "[-1.06 -0.75 -0.37]\n",
      "shape of array resulting from np.convolve\n",
      "(8402,)\n",
      "Convolution by np.convolve 'full' - first three points\n",
      "[-0.29 -0.63 -0.99]\n",
      "Convolution by np.convolve 'full' - last three points\n",
      "[-1.06 -0.75 -0.37]\n",
      "shape of array resulting from np.convolve 'full'\n",
      "(8402,)\n",
      "Convolution by np.convolve 'same' - first three points\n",
      "[-0.63 -0.99 -1.02]\n",
      "Convolution by np.convolve 'same' - last three points\n",
      "[-0.88 -1.06 -0.75]\n",
      "shape of array resulting from np.convolve 'same'\n",
      "(8400,)\n",
      "Convolution by np.convolve 'valid' - first three points\n",
      "[-0.99 -1.02 -0.95]\n",
      "Convolution by np.convolve 'valid' - last three points\n",
      "[-0.6  -0.88 -1.06]\n",
      "shape of array resulting from np.convolve 'valid'\n",
      "(8398,)\n"
     ]
    }
   ],
   "source": [
    "## what does np.convolve do??  lots of different things :).\n",
    "\n",
    "## mode = 'full' is the default\n",
    "y2=np.convolve(xa,b)\n",
    "print(\"Convolution by np.convolve - first three points\")\n",
    "print(np.round(y2[0:3],2))\n",
    "print(\"Convolution by np.convolve - last three points\")\n",
    "print(np.round(y2[-3:],2))\n",
    "print(\"shape of array resulting from np.convolve\")\n",
    "print(np.shape(y2))\n",
    "\n",
    "## 'full' starts with the first value and add points at the end - matches calculation by hand at both start and end\n",
    "## This returns the convolution at each point of overlap, with an output shape of (N+M-1,). \n",
    "## At the end-points of the convolution, the signals do not overlap completely, and boundary effects may be seen.\n",
    "y2=np.convolve(xa,b,'full')\n",
    "print(\"Convolution by np.convolve 'full' - first three points\")\n",
    "print(np.round(y2[0:3],2))\n",
    "print(\"Convolution by np.convolve 'full' - last three points\")\n",
    "print(np.round(y2[-3:],2))\n",
    "print(\"shape of array resulting from np.convolve 'full'\")\n",
    "print(np.shape(y2))\n",
    "\n",
    "## 'same' \n",
    "## Mode ‘same’ returns output of length max(M, N). Boundary effects are still visible.\n",
    "y2=np.convolve(xa,b,'same')\n",
    "print(\"Convolution by np.convolve 'same' - first three points\")\n",
    "print(np.round(y2[0:3],2))\n",
    "print(\"Convolution by np.convolve 'same' - last three points\")\n",
    "print(np.round(y2[-3:],2))\n",
    "print(\"shape of array resulting from np.convolve 'same'\")\n",
    "print(np.shape(y2))\n",
    "\n",
    "## 'valid' \n",
    "## Mode ‘valid’ returns output of length max(M, N) - min(M, N) + 1. \n",
    "##The convolution product is only given for points where the signals overlap completely. \n",
    "##Values outside the signal boundary have no effect.\n",
    "y2=np.convolve(xa,b,'valid')\n",
    "print(\"Convolution by np.convolve 'valid' - first three points\")\n",
    "print(np.round(y2[0:3],2))\n",
    "print(\"Convolution by np.convolve 'valid' - last three points\")\n",
    "print(np.round(y2[-3:],2))\n",
    "print(\"shape of array resulting from np.convolve 'valid'\")\n",
    "print(np.shape(y2))"
   ]
  },
  {
   "cell_type": "code",
   "execution_count": 5,
   "metadata": {},
   "outputs": [
    {
     "name": "stdout",
     "output_type": "stream",
     "text": [
      "Filtering using lfilter - first three points\n",
      "[-0.29 -0.63 -0.99]\n",
      "Filtering using lfilter - last three points (it is ignoring last two points)\n",
      "[-0.6  -0.88 -1.06]\n",
      "shape of array resulting from sig.lfilter\n",
      "(8400,)\n"
     ]
    }
   ],
   "source": [
    "## what does sig.lfilter do?  \n",
    "## it uses np.convolve so it also starts with the first value, but cuts off the last value (at the end)\n",
    "## Source code here: https://github.com/scipy/scipy/blob/v1.5.4/scipy/signal/signaltools.py#L1719-L1909\n",
    "yfilt=sig.lfilter(b,1,xa)\n",
    "print(\"Filtering using lfilter - first three points\")\n",
    "print(np.round(yfilt[0:3],2))\n",
    "print(\"Filtering using lfilter - last three points (it is ignoring last two points)\")\n",
    "print(np.round(yfilt[-3:],2))\n",
    "print(\"shape of array resulting from sig.lfilter\")\n",
    "print(np.shape(yfilt))"
   ]
  },
  {
   "cell_type": "code",
   "execution_count": 6,
   "metadata": {},
   "outputs": [
    {
     "name": "stdout",
     "output_type": "stream",
     "text": [
      "Filtering using filtfilt\n",
      "[-0.86 -0.95 -0.98]\n",
      "shape of array resulting from sig.lfilter\n",
      "(8400,)\n"
     ]
    }
   ],
   "source": [
    "## what does sig.filtfilt do?  \n",
    "## apply the filter forward - cut it off second to last \n",
    "## apply the filter backward - cut if off second to last (in other words the first point)\n",
    "## going each way -- you get to filter the edges from both directions at least once.\n",
    "## filtering using filtfilt makes the most of the data at the edges\n",
    "## filtfilt makes the most of all of your data... so it's a good choice to use\n",
    "## Look at the original python code -- filtfilt is applying lfilt twice\n",
    "##https://github.com/scipy/scipy/blob/v0.18.1/scipy/signal/signaltools.py#L858-L1041\n",
    "\n",
    "## Notes on padding:\n",
    "# When method is “pad”, the function pads the data along the given axis in one of three ways: odd, even or constant. \n",
    "# The odd and even extensions have the corresponding symmetry about the end point of the data. \n",
    "# The constant extension extends the data with the values at the end points. \n",
    "# On both the forward and backward passes, the initial condition of the filter \n",
    "# is found by using lfilter_zi and scaling it by the end point of the extended data.\n",
    "# When method is “gust”, Gustafsson’s method [1] is used. Initial conditions are chosen for the \n",
    "# forward and backward passes so that the forward-backward filter gives the same result \n",
    "# as the backward-forward filter.\n",
    "\n",
    "yfiltfilt=sig.filtfilt(b,1,xa)\n",
    "print(\"Filtering using filtfilt\")\n",
    "print(np.round(yfiltfilt[0:3],2))\n",
    "print(\"shape of array resulting from sig.lfilter\")\n",
    "print(np.shape(yfiltfilt))"
   ]
  },
  {
   "cell_type": "code",
   "execution_count": null,
   "metadata": {},
   "outputs": [],
   "source": []
  }
 ],
 "metadata": {
  "kernelspec": {
   "display_name": "Python 3 (ipykernel)",
   "language": "python",
   "name": "python3"
  },
  "language_info": {
   "codemirror_mode": {
    "name": "ipython",
    "version": 3
   },
   "file_extension": ".py",
   "mimetype": "text/x-python",
   "name": "python",
   "nbconvert_exporter": "python",
   "pygments_lexer": "ipython3",
   "version": "3.9.7"
  }
 },
 "nbformat": 4,
 "nbformat_minor": 4
}
