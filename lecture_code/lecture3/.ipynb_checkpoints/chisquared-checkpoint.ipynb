{
 "cells": [
  {
   "cell_type": "code",
   "execution_count": 1,
   "metadata": {},
   "outputs": [],
   "source": [
    "##### ATOC7500 - chisquared.ipynb - Lecture #3\n",
    "##### Originally coded by Prof. Kay (University of Colorado Boulder)\n",
    "##### Last updated: September 9, 2020\n",
    "\n",
    "##A chi-square test ( Snedecor and Cochran, 1983) can be used to test if the \n",
    "##variance of a population is equal to a specified value. This test can be either \n",
    "##a two-sided test or a one-sided test. The two-sided version tests against the \n",
    "##alternative that the true variance is either less than or greater than the specified value.\n",
    "##The one-sided version only tests in one direction. \n",
    "##The choice of a two-sided or one-sided test is determined by the problem. \n",
    "\n",
    "# Import the packages and general set-up\n",
    "%matplotlib inline  \n",
    "# this enables plotting within notebook\n",
    "import matplotlib   # library for plotting\n",
    "import matplotlib.pyplot as plt # basic plotting; later you will type plt.$COMMAND\n",
    "import numpy as np # basic math library  you will type np.$STUFF  e.g., np.cos(1)\n",
    "import scipy.stats as stats # imports stats functions https://docs.scipy.org/doc/scipy/reference/stats.html  \n",
    "import xarray  ##netcdf manipulation - slick array manipulation"
   ]
  },
  {
   "cell_type": "code",
   "execution_count": 2,
   "metadata": {},
   "outputs": [],
   "source": [
    "## Read in the data from netcdf files\n",
    "## These data are global annual mean surface temperatures from the CESM Large Ensemble Project.\n",
    "fname=\"TS_timeseries_cesmle_1920_2100.nc\"\n",
    "ds=xarray.open_dataset(fname)\n",
    "year_transient=ds[\"year\"]\n",
    "#ds  ## note: uncommenting this line prints information about the data you read in\n",
    "fname1=\"TS_timeseries_cesmle_1850.nc\"\n",
    "ds1=xarray.open_dataset(fname1)\n",
    "gts=ds[\"gts_ann_allcesmle\"]\n",
    "year=ds[\"year\"]\n",
    "#gts  ## note: uncommenting this line prints information about the variable gts\n",
    "gts_1850=ds1[\"gts_annual\"]"
   ]
  },
  {
   "cell_type": "code",
   "execution_count": 3,
   "metadata": {},
   "outputs": [
    {
     "name": "stdout",
     "output_type": "stream",
     "text": [
      "Mean 1850 global mean surface temperature 287.11\n",
      "Standard deviation in 1850 global mean surface temperature: 0.1\n"
     ]
    }
   ],
   "source": [
    "#### With the 1850 control we have the opportunity to calculate population statistics with constant forcing.\n",
    "#### Let's find the population mean and population standard deviation from the 1850 control.  \n",
    "gts_1850_mean=np.mean(gts_1850).values\n",
    "gts_1850_std=np.std(gts_1850).values\n",
    "print(\"Mean 1850 global mean surface temperature\",np.round(gts_1850_mean,2))\n",
    "print(\"Standard deviation in 1850 global mean surface temperature:\",np.round(gts_1850_std,2))"
   ]
  },
  {
   "cell_type": "code",
   "execution_count": 4,
   "metadata": {},
   "outputs": [
    {
     "name": "stdout",
     "output_type": "stream",
     "text": [
      "Mean CESM LE member 1: 290.71\n",
      "Standard Deviation CESM LE member 1: 1.0\n",
      "Mean CESM LE member 1 - DETRENDED: 291.0\n",
      "Standard Deviation CESM LE member 1 - DETRENDED: 0.0\n"
     ]
    },
    {
     "data": {
      "image/png": "[encoded data removed]",
      "text/plain": [
       "<Figure size 432x288 with 1 Axes>"
      ]
     },
     "metadata": {
      "needs_background": "light"
     },
     "output_type": "display_data"
    }
   ],
   "source": [
    "### Next let's calculate future variance\n",
    "startyear=2050\n",
    "endyear=2099\n",
    "nyrs=(endyear-startyear)\n",
    "gts_mem1=gts.sel(member=1).sel(year=slice(startyear,endyear+1))\n",
    "year_use=year_transient.sel(year=slice(startyear,endyear+1))\n",
    "time=np.array(range(len(gts_mem1)))\n",
    "slope, intercept, r_value, p_value, std_err = stats.linregress(time,gts_mem1-gts_mem1.mean())\n",
    "gts_mem1_dtrend=gts_mem1-(time*slope+intercept)\n",
    "## check with a quick plot\n",
    "plt.plot(year_use,gts_mem1_dtrend,color='black')\n",
    "plt.plot(year_use,gts_mem1,color='red')\n",
    "plt.title('CESM-LE: Detrended (black), Original (red)')\n",
    "plt.ylabel('Global mean annual temperature')\n",
    "plt.xlabel('Year')\n",
    "\n",
    "#print(gts_mem1)\n",
    "gts_mem1_mean=np.mean(gts_mem1).values\n",
    "gts_mem1_std=np.std(gts_mem1).values\n",
    "print('Mean CESM LE member 1:',np.round(gts_mem1_mean,2))\n",
    "print(\"Standard Deviation CESM LE member 1:\",np.round(gts_mem1_std))\n",
    "\n",
    "## detrended\n",
    "gts_mem1_mean_dtrend=np.mean(gts_mem1_dtrend).values\n",
    "gts_mem1_std_dtrend=np.std(gts_mem1_dtrend).values\n",
    "print('Mean CESM LE member 1 - DETRENDED:',np.round(gts_mem1_mean_dtrend))\n",
    "print('Standard Deviation CESM LE member 1 - DETRENDED:',np.round(gts_mem1_std_dtrend))\n",
    "\n",
    "### just use the detrended values for all future calculations\n",
    "gts_mem1_mean=gts_mem1_mean_dtrend\n",
    "gts_mem1_std=gts_mem1_std_dtrend"
   ]
  },
  {
   "cell_type": "code",
   "execution_count": 5,
   "metadata": {},
   "outputs": [
    {
     "name": "stdout",
     "output_type": "stream",
     "text": [
      "sample_variance: 0.01\n",
      "population_variance: 0.01\n",
      "chi2_cesmle: 41.94\n",
      "crit_value_chi2: 69.02\n"
     ]
    }
   ],
   "source": [
    "## calculate chi-square to test if sample variance differs from population variance\n",
    "sample_variance=gts_mem1_std*gts_mem1_std\n",
    "print('sample_variance:',np.round(sample_variance,2))\n",
    "population_variance=gts_1850_std*gts_1850_std\n",
    "print('population_variance:',np.round(population_variance,2))\n",
    "df=nyrs-1\n",
    "chi2_cesmle=(df)*(sample_variance)/(population_variance)  ## Barnes Eq. 118\n",
    "print('chi2_cesmle:',np.round(chi2_cesmle,2))\n",
    "## Find the critical value of chi2 for two-sided 95% confidence\n",
    "crit_value_chi2=stats.chi2.ppf(q=1-((1-0.95)/2),df=df)\n",
    "print('crit_value_chi2:',np.round(crit_value_chi2,2))\n",
    "\n",
    "#pvalue_crit=1-stats.chi2.cdf(crit_value_chi2,df=df)\n",
    "#print('pvalue_crit (needs to be less than 0.025 to reject null)',pvalue_crit)\n",
    "#pvalue_actual=1-stats.chi2.cdf(chi2_cesmle,df=df)\n",
    "#print('pvalue_actual (needs to be less than 0.025 to reject null)',pvalue_actual)"
   ]
  },
  {
   "cell_type": "code",
   "execution_count": 6,
   "metadata": {},
   "outputs": [
    {
     "name": "stdout",
     "output_type": "stream",
     "text": [
      "chi2_cesmle < crit_value_chi2\n",
      "cannot reject null hypothesis (HO: standard deviation sample = standard deviation population)\n"
     ]
    }
   ],
   "source": [
    "## compare with chi2_cesml2 -- if chi2_cesmle > crit_value_chi2\n",
    "## reject null hypothesis that standard deviation sample = standard deviation population\n",
    "if  chi2_cesmle > crit_value_chi2:\n",
    "    print('chi2_cesmle > crit_value_chi2')\n",
    "    print('reject null hypothesis (H0: standard deviation sample = standard deviation population)')\n",
    "if chi2_cesmle < crit_value_chi2:\n",
    "    print('chi2_cesmle < crit_value_chi2')\n",
    "    print('cannot reject null hypothesis (HO: standard deviation sample = standard deviation population)')"
   ]
  },
  {
   "cell_type": "code",
   "execution_count": 7,
   "metadata": {},
   "outputs": [],
   "source": [
    "#### code to make sure I understand how python is calculating values from chi-distribution##\n",
    "## Find the critical value of chi2 for given probability\n",
    "## use 0.975 - Check with Hartman ChiSqaure Table page 18, should get 3.247\n",
    "#df_test=10\n",
    "## probability distribution function for chi-squared distribution\n",
    "#crit_value_chi2=stats.chi2.ppf((1-0.975),df_test)\n",
    "#print('crit_value_chi2:',round(crit_value_chi2,3))\n",
    "## For a given chi2 value (3.247) -- find the probability\n",
    "#chi2value=3.247\n",
    "### print probabilities and pvalues using cdf\n",
    "#prob=1-stats.chi2.cdf(chi2value,df_test)\n",
    "#print(round(prob,3))\n",
    "#pvalue=stats.chi2.cdf(chi2value,df_test)\n",
    "#print(round(pvalue,3))"
   ]
  },
  {
   "cell_type": "code",
   "execution_count": null,
   "metadata": {},
   "outputs": [],
   "source": []
  },
  {
   "cell_type": "code",
   "execution_count": null,
   "metadata": {},
   "outputs": [],
   "source": []
  },
  {
   "cell_type": "code",
   "execution_count": null,
   "metadata": {},
   "outputs": [],
   "source": []
  }
 ],
 "metadata": {
  "kernelspec": {
   "display_name": "Python 3",
   "language": "python",
   "name": "python3"
  },
  "language_info": {
   "codemirror_mode": {
    "name": "ipython",
    "version": 3
   },
   "file_extension": ".py",
   "mimetype": "text/x-python",
   "name": "python",
   "nbconvert_exporter": "python",
   "pygments_lexer": "ipython3",
   "version": "3.6.13"
  }
 },
 "nbformat": 4,
 "nbformat_minor": 2
}
