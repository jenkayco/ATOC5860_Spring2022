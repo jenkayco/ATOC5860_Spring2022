{
 "cells": [
  {
   "cell_type": "code",
   "execution_count": null,
   "metadata": {},
   "outputs": [],
   "source": [
    "### ATOC7500 Lecture #4 - linear_regression_grades\n",
    "### coded by Prof. Jennifer Kay (University of Colorado)\n",
    "### last updated September 14, 2020\n",
    "\n",
    "import numpy as np\n",
    "import matplotlib\n",
    "%matplotlib inline\n",
    "import matplotlib.pyplot as plt\n",
    "import xarray\n",
    "import pandas as pd   ##pandas reads in .csv.\n",
    "from scipy import stats\n",
    "import seaborn as sns  ### seaborn just makes things pretty -- no new typing\n",
    "sns.set_style('whitegrid')  ###  change away from grey grid (seaborn default) to white grid"
   ]
  },
  {
   "cell_type": "code",
   "execution_count": null,
   "metadata": {},
   "outputs": [],
   "source": [
    "filename = 'class_grades_detailed_anonymous.csv'\n",
    "data=pd.read_csv(filename,sep=',')\n",
    "#print(data)"
   ]
  },
  {
   "cell_type": "code",
   "execution_count": null,
   "metadata": {},
   "outputs": [],
   "source": [
    "### Assign X and Y data\n",
    "xdata=data['midterm1'] ## predictor, independent variable\n",
    "ydata=data['final'] ## predicted by predictor, dependent variable; y=f(x)\n",
    "N=len(xdata)\n",
    "plt.scatter(xdata,ydata);\n",
    "plt.xlabel('X Data - midterm1 exam grade',size=14);\n",
    "plt.ylabel('Y Data - final exam grade',size=14);"
   ]
  },
  {
   "cell_type": "code",
   "execution_count": null,
   "metadata": {},
   "outputs": [],
   "source": [
    "### Calculate the correlation statistics\n",
    "slope, intercept, r_value, p_value, std_err = stats.linregress(xdata,ydata)\n",
    "print('scipy.stats.linregress slope or regression coefficient: ',round(slope,2))\n",
    "print('scipy.stats.linregress y-intercept: ',round(intercept,2))\n",
    "print('scipy.stats.linregress r_value or correlation coefficient: ',round(r_value,2))"
   ]
  },
  {
   "cell_type": "code",
   "execution_count": null,
   "metadata": {},
   "outputs": [],
   "source": [
    "### Test the null hypothesis that the true correlation between midterm1 grade and final exam grade is positive.\n",
    "### HO: high midterm1 grade leads to a high final exam grade\n",
    "### Need to use fisher-z because the hypothesis is that the correlation is positive (not zero).\n",
    "\n",
    "## Use Fisher-Z to calculate Z, sigma_Z\n",
    "Z=0.5*np.log((1+r_value)/(1-r_value))\n",
    "sigma_Z=1/np.sqrt(N-3)\n",
    "print('Z:',round(Z,2))\n",
    "print('sigma_Z:',round(sigma_Z,2))\n",
    "\n",
    "## Find 95% confidence intervals on the true correlation.\n",
    "tstat95=stats.t.ppf(0.975,N-2)  ## two-sided 95%\n",
    "min_Z_value=Z-tstat95*sigma_Z\n",
    "max_Z_value=Z+tstat95*sigma_Z\n",
    "min_r_value=np.tanh(min_Z_value)\n",
    "max_r_value=np.tanh(max_Z_value)\n",
    "print('Number of students:',N)\n",
    "print('r_value:',round(r_value,2))\n",
    "print('min_r_value:',round(min_r_value,2))\n",
    "print('max_r_value:',round(max_r_value,2))\n",
    "\n",
    "print('Cannot reject null hypothesis; 95% confidence bounds rule out correlation=0')\n",
    "print('Results consistent with the null hypothesis that a high midterm 1 grade leads to a high final exam grade.')"
   ]
  },
  {
   "cell_type": "code",
   "execution_count": null,
   "metadata": {},
   "outputs": [],
   "source": []
  }
 ],
 "metadata": {
  "kernelspec": {
   "display_name": "Python 3",
   "language": "python",
   "name": "python3"
  },
  "language_info": {
   "codemirror_mode": {
    "name": "ipython",
    "version": 3
   },
   "file_extension": ".py",
   "mimetype": "text/x-python",
   "name": "python",
   "nbconvert_exporter": "python",
   "pygments_lexer": "ipython3",
   "version": "3.6.13"
  }
 },
 "nbformat": 4,
 "nbformat_minor": 2
}
