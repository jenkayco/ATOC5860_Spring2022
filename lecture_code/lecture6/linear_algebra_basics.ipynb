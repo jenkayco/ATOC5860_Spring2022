{
 "cells": [
  {
   "cell_type": "markdown",
   "metadata": {},
   "source": [
    "# Review of Matrix Basics\n",
    "The goal of this python code is to familiarize oneself with the basics\n",
    "of vectors, matrix transposes, dot products, and multiplication."
   ]
  },
  {
   "cell_type": "code",
   "execution_count": 2,
   "metadata": {},
   "outputs": [],
   "source": [
    "### ATOC5860 - linear_algebra_basics.ipynb\n",
    "## coded by Dr. Eleanor Middlemas (postdoc ATOC/CIRES University of Colorado, now working at Jupiter)\n",
    "## Last updated February 9, 2022\n",
    "\n",
    "import numpy as np\n",
    "%matplotlib inline"
   ]
  },
  {
   "cell_type": "code",
   "execution_count": 7,
   "metadata": {
    "scrolled": true
   },
   "outputs": [
    {
     "name": "stdout",
     "output_type": "stream",
     "text": [
      "This is a vector of zeros.\n",
      "[[0.]\n",
      " [0.]\n",
      " [0.]]\n",
      "Its dimension sizes are  (3, 1)\n",
      "\n",
      "This vector transposed looks like: \n",
      "\n",
      "Its new size is  (1, 3)\n",
      "Its new size is  (1, 3)\n"
     ]
    }
   ],
   "source": [
    "# Vectors are arrays that have a singleton dimension.\n",
    "v = np.zeros((3,1))\n",
    "print(\"This is a vector of zeros.\")\n",
    "print(v)\n",
    "print(\"Its dimension sizes are \",np.shape(v))\n",
    "print(\"\")\n",
    "\n",
    "# Transposing vectors:\n",
    "print(\"This vector transposed looks like: \")\n",
    "print() # put transposed vector here using np. function\n",
    "print(\"Its new size is \",np.shape(np.transpose(v)))\n",
    "print(\"Its new size is \",np.shape(v.T))"
   ]
  },
  {
   "cell_type": "code",
   "execution_count": 8,
   "metadata": {},
   "outputs": [
    {
     "name": "stdout",
     "output_type": "stream",
     "text": [
      "[[1 2]\n",
      " [2 4]\n",
      " [3 6]]\n",
      "The above matrix is comprise of two column vectors.\n",
      "Its size is  (3, 2)\n",
      "\n",
      "V transposed looks like: \n",
      "[[1 2 3]\n",
      " [2 4 6]]\n",
      "Its new sizes are:  (2, 3)\n"
     ]
    }
   ],
   "source": [
    "# Matrices *can* be (though not always) a compilation of vectors.\n",
    "v = [1,2,3]\n",
    "v2 = [2,4,6]\n",
    "\n",
    "# put these two vectors into V. the \".T\" makes them column vectors.\n",
    "V = np.matrix([v,v2]).T\n",
    "print(V)\n",
    "print(\"The above matrix is comprise of two column vectors.\")\n",
    "print(\"Its size is \",np.shape(V))\n",
    "print(\"\")\n",
    "\n",
    "# Transposing a matrix involves transposing each of its vectors.\n",
    "Vt =  V.T# numpy arrays may be tranposed by appending a \".T\"\n",
    "print(\"V transposed looks like: \")\n",
    "print(Vt)\n",
    "print(\"Its new sizes are: \",np.shape(Vt))"
   ]
  },
  {
   "cell_type": "code",
   "execution_count": 9,
   "metadata": {},
   "outputs": [
    {
     "name": "stdout",
     "output_type": "stream",
     "text": [
      "28\n",
      "(3,)\n",
      "(3,)\n",
      "Dot product calculated using numpy:  28\n"
     ]
    }
   ],
   "source": [
    "# The dot product is simply the sum of the product of each corresponding\n",
    "# position of vectors. The dot product between two vectors also yields\n",
    "# the covariance.\n",
    "\n",
    "# recall that:\n",
    "v = np.array([1,2,3])\n",
    "v2 = np.array([2,4,6])\n",
    "# please write out the actual calculation of computing the dot product \n",
    "# of v and v2 above (i.e., how you would calculate it by hand).\n",
    "dot1 = 1*2+2*4+3*6\n",
    "print(dot1)\n",
    "\n",
    "print(v.shape)\n",
    "print(v2.shape)\n",
    "# Use the numpy function \"dot\":\n",
    "dot2 = np.dot(v,v2)\n",
    "print(\"Dot product calculated using numpy: \",dot2)\n",
    "\n",
    "# What about the dot product of these two vectors?\n",
    "v3 = [5,15,20]\n",
    "x = [1,2]"
   ]
  },
  {
   "cell_type": "code",
   "execution_count": 10,
   "metadata": {},
   "outputs": [
    {
     "name": "stdout",
     "output_type": "stream",
     "text": [
      "v2:  [2 4 6]\n",
      "V:  [[1 2]\n",
      " [2 4]\n",
      " [3 6]]\n",
      "v2*V:  [[28 56]]\n",
      "New matrix C has a shape of size  (3, 3)\n",
      "What will the size of CxV (size  (3, 2) ) look like?\n",
      "Shape of CxV is  (3, 2)\n"
     ]
    }
   ],
   "source": [
    "# Matrix multiplication is simply the dot products between the rows\n",
    "# in the first matrix and the columns in the second matrix.\n",
    "# Before beginning to multiply, you must make sure your matrices/vectors are conformable.\n",
    "\n",
    "A = v2*V  \n",
    "print(\"v2: \",v2)\n",
    "print(\"V: \",V)\n",
    "print(\"v2*V: \",A)\n",
    "\n",
    "#B = V*v\n",
    "\n",
    "C = np.matrix([v,v2,v3])\n",
    "print(\"New matrix C has a shape of size \",np.shape(C))\n",
    "print(\"What will the size of CxV (size \",np.shape(V),\") look like?\")\n",
    "\n",
    "D = C@V  ## @ is matrix multiplication -- * will default to scalar multiplication\n",
    "print(\"Shape of CxV is \",np.shape(D))"
   ]
  },
  {
   "cell_type": "code",
   "execution_count": null,
   "metadata": {},
   "outputs": [],
   "source": []
  },
  {
   "cell_type": "code",
   "execution_count": null,
   "metadata": {},
   "outputs": [],
   "source": []
  }
 ],
 "metadata": {
  "kernelspec": {
   "display_name": "Python 3",
   "language": "python",
   "name": "python3"
  },
  "language_info": {
   "codemirror_mode": {
    "name": "ipython",
    "version": 3
   },
   "file_extension": ".py",
   "mimetype": "text/x-python",
   "name": "python",
   "nbconvert_exporter": "python",
   "pygments_lexer": "ipython3",
   "version": "3.6.13"
  }
 },
 "nbformat": 4,
 "nbformat_minor": 2
}
